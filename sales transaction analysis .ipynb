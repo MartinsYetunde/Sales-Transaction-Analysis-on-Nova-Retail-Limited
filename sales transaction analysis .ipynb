{
 "cells": [
  {
   "cell_type": "code",
   "execution_count": null,
   "id": "ad4379e0-df79-4ee8-b90d-01d502d90a66",
   "metadata": {},
   "outputs": [],
   "source": [
    "!pip install plotly\n",
    "!pip install cufflinks\n",
    "!pip install chart_studio\n"
   ]
  },
  {
   "cell_type": "code",
   "execution_count": 7,
   "id": "0f2632ec-bc48-495f-91b8-15dcca4176d2",
   "metadata": {},
   "outputs": [
    {
     "data": {
      "text/plain": [
       "29521000"
      ]
     },
     "execution_count": 7,
     "metadata": {},
     "output_type": "execute_result"
    }
   ],
   "source": [
    "#1. What is the total revenue generated in the dataset?\n",
    "sales[\"Revenue\"].sum()\n",
    "\n"
   ]
  },
  {
   "cell_type": "code",
   "execution_count": 8,
   "id": "da80724a-587e-4327-8e27-64316c80c0bf",
   "metadata": {},
   "outputs": [
    {
     "data": {
      "text/plain": [
       "110"
      ]
     },
     "execution_count": 8,
     "metadata": {},
     "output_type": "execute_result"
    }
   ],
   "source": [
    "#2. How many total transactions were recorded?\n",
    "sales['TransactionID'].nunique()"
   ]
  },
  {
   "cell_type": "code",
   "execution_count": null,
   "id": "36bf6e42-bbdc-47e8-b13d-e3a2cc3f785c",
   "metadata": {},
   "outputs": [],
   "source": [
    "#3. How many distinct customers made purchases?\n",
    "sales['CustomerID'].nunique()"
   ]
  },
  {
   "cell_type": "code",
   "execution_count": 12,
   "id": "1564d457-0a77-4e5c-a613-77488bd36f88",
   "metadata": {},
   "outputs": [
    {
     "data": {
      "text/plain": [
       "9285500"
      ]
     },
     "execution_count": 12,
     "metadata": {},
     "output_type": "execute_result"
    }
   ],
   "source": [
    "#4. What is the total revenue generated from Lagos alone?\n",
    "sales[sales['City'] =='Lagos']['Revenue'].sum()"
   ]
  },
  {
   "cell_type": "code",
   "execution_count": 13,
   "id": "81618424-ba55-49f7-8f76-366811286c5c",
   "metadata": {},
   "outputs": [
    {
     "data": {
      "text/plain": [
       "22"
      ]
     },
     "execution_count": 13,
     "metadata": {},
     "output_type": "execute_result"
    }
   ],
   "source": [
    "#5. How many units of \"Accessories\" were sold in Abuja?\n",
    "sales[(sales['City'] =='Abuja') & (sales['Category'] == 'Accessories')]['UnitsSold'].sum()"
   ]
  },
  {
   "cell_type": "code",
   "execution_count": null,
   "id": "838d8a8e-0592-4dd3-9d3c-081b0408b8da",
   "metadata": {},
   "outputs": [],
   "source": [
    "#6. What is the average discount offered across all transactions?\n",
    "sales['Discount'].mean()"
   ]
  },
  {
   "cell_type": "code",
   "execution_count": null,
   "id": "30384c4d-ca97-457d-952b-3e77c7814be7",
   "metadata": {},
   "outputs": [],
   "source": [
    "#7. What was the revenue for February 2024?\n",
    "sales[\"Date\"] = sales[\"Date\"].astype(\"datetime64[ns]\")"
   ]
  },
  {
   "cell_type": "code",
   "execution_count": null,
   "id": "458c68f9-d61b-40f8-9527-ce00108c62a1",
   "metadata": {},
   "outputs": [],
   "source": [
    "sales[\"Month\"] = sales[\"Date\"].dt.to_period(\"M\")"
   ]
  },
  {
   "cell_type": "code",
   "execution_count": null,
   "id": "be959346-d187-4258-91e4-860bf98849ac",
   "metadata": {},
   "outputs": [],
   "source": [
    "sales[\"Month\"]"
   ]
  },
  {
   "cell_type": "code",
   "execution_count": null,
   "id": "cf6fea73-2b5d-4d05-939a-dc05ece061f6",
   "metadata": {},
   "outputs": [],
   "source": [
    "sales.groupby([\"Month\"])[\"Revenue\"].sum().loc[\"2024-02\"]"
   ]
  },
  {
   "cell_type": "code",
   "execution_count": null,
   "id": "b2bca88a-0325-4bda-a4f9-f5516d26fe93",
   "metadata": {},
   "outputs": [],
   "source": [
    "#8. Which month had the highest sales revenue?\n",
    "sales.groupby([\"Month\"])[\"Revenue\"].sum().nlargest()\n"
   ]
  },
  {
   "cell_type": "code",
   "execution_count": null,
   "id": "0a1856b3-928f-4dae-bf99-f3b71ba6b095",
   "metadata": {},
   "outputs": [],
   "source": [
    "#9. Create a measure to calculate monthly revenue trend\n",
    "import matplotlib.pyplot as plt\n",
    "sale = sales.groupby(sales[\"Date\"].dt.to_period(\"M\"))[\"Revenue\"].sum().reset_index()\n",
    "sale"
   ]
  },
  {
   "cell_type": "code",
   "execution_count": null,
   "id": "996df288-54b6-4523-93de-9474f4509bba",
   "metadata": {},
   "outputs": [],
   "source": [
    "#10. What is the average revenue per customer?\n",
    "sales.groupby(['CustomerID'])['Revenue'].mean()"
   ]
  },
  {
   "cell_type": "code",
   "execution_count": null,
   "id": "e498a77d-3e7a-4854-9d86-b31b2005dd38",
   "metadata": {},
   "outputs": [],
   "source": [
    "#11. How many customers bought more than once?\n",
    "repeat_customer = sales['CustomerID'].value_counts()\n",
    "repeat_customer[repeat_customer>1].count()"
   ]
  },
  {
   "cell_type": "code",
   "execution_count": null,
   "id": "2e447ef5-5c59-4aa3-a24e-9e8444d3e105",
   "metadata": {},
   "outputs": [],
   "source": [
    "#12. Which product category generated the most revenue?\n",
    "sales.groupby(['Category'])['Revenue'].sum().sort_values(ascending=False)"
   ]
  },
  {
   "cell_type": "code",
   "execution_count": null,
   "id": "c3585e4f-4a93-4afe-b5a0-68accf70d3aa",
   "metadata": {},
   "outputs": [],
   "source": [
    "#13. What is the average revenue per unit for Electronics?\n",
    "sales = sales[sales['Category'] == 'Electronic']"
   ]
  },
  {
   "cell_type": "code",
   "execution_count": null,
   "id": "3fb72ae5-bd63-4903-995b-26f344fdce86",
   "metadata": {},
   "outputs": [],
   "source": [
    "#14. Which sales rep generated the highest total revenue?\n",
    "sales.groupby(['SalesRep'])['Revenue'].sum().sort_values(ascending=False)"
   ]
  },
  {
   "cell_type": "code",
   "execution_count": null,
   "id": "6075e456-2843-4cd9-bb7d-4cc9a865f189",
   "metadata": {},
   "outputs": [],
   "source": [
    "#15. Calculate total units sold by each sales rep.\n",
    "sales.groupby(['SalesRep'])['UnitsSold'].sum()"
   ]
  },
  {
   "cell_type": "code",
   "execution_count": null,
   "id": "f239d97f-fbdd-4a4d-a05f-db385ec52462",
   "metadata": {},
   "outputs": [],
   "source": [
    "#16. Calculates revenue from Lagos only if the customer is \"New\". (New customers only)\n",
    "sales[(sales[\"City\"] == 'Lagos') & (sales['CustomerType'] == \"New\")]['Revenue'].sum()\n"
   ]
  },
  {
   "cell_type": "code",
   "execution_count": null,
   "id": "7a384142-fad7-4249-a8c3-c469a6996067",
   "metadata": {},
   "outputs": [],
   "source": [
    "#17. Calculate the total revenue excluding transactions from Port Harcourt.\n",
    "sales[sales['City'] != 'Port Harcourt']['Revenue'].sum()"
   ]
  },
  {
   "cell_type": "code",
   "execution_count": null,
   "id": "20581156-df04-4844-96f9-19acb230d20b",
   "metadata": {},
   "outputs": [],
   "source": [
    "#18. Create a measure to calculate average units sold per transaction.\n",
    "sales['UnitsSold'].mean()"
   ]
  },
  {
   "cell_type": "code",
   "execution_count": null,
   "id": "0294bbf7-192a-4aa9-a171-fc782664995b",
   "metadata": {},
   "outputs": [],
   "source": [
    "#19. Calculate the total discount value across all sales.\n",
    "sales[(sales['Category']=='Electronics')&(sales['CustomerType']=='Returning')]['Revenue'].sum()"
   ]
  },
  {
   "cell_type": "code",
   "execution_count": 15,
   "id": "8fe77608-94f5-4fbf-bfde-aece682bbf39",
   "metadata": {},
   "outputs": [],
   "source": [
    "sales [\"Dates\"] = sales [\"Date\"].astype(\"datetime64[ns]\")\n"
   ]
  },
  {
   "cell_type": "code",
   "execution_count": 16,
   "id": "219e27ce-579e-4164-a48d-24999bf29c38",
   "metadata": {},
   "outputs": [],
   "source": [
    "sales [\"Month\"] = sales [\"Dates\"].dt.month_name()\n"
   ]
  },
  {
   "cell_type": "code",
   "execution_count": null,
   "id": "8f52a5af-e4a6-4ad2-a3e8-c4f5c562305e",
   "metadata": {},
   "outputs": [],
   "source": [
    "plt.figure(figsize=[14,8])\n",
    "sns.lineplot (x=\"Month\", y=\"Revenue\",data=sales)\n",
    "plt.title (\"MONTHLY TREND\" )\n",
    "plt.show\n"
   ]
  },
  {
   "cell_type": "code",
   "execution_count": 9,
   "id": "d65e5dfb-a114-4ce3-9156-899c620d0865",
   "metadata": {},
   "outputs": [
    {
     "data": {
      "text/plain": [
       "<function matplotlib.pyplot.show(close=None, block=None)>"
      ]
     },
     "execution_count": 9,
     "metadata": {},
     "output_type": "execute_result"
    },
    {
     "data": {
      "image/png": "[encoded data removed]",
      "text/plain": [
       "<Figure size 800x600 with 1 Axes>"
      ]
     },
     "metadata": {},
     "output_type": "display_data"
    }
   ],
   "source": [
    "plt. figure(figsize=[8,6])\n",
    "sns.barplot(x=\"Category\",y=\"Revenue\",data =sales, color=\"b\")\n",
    "plt.title(\"TOTAL REVENUE BY CATEGORY\")\n",
    "plt. show\n"
   ]
  },
  {
   "cell_type": "code",
   "execution_count": null,
   "id": "be8564a2-f135-45d0-ba7c-9a0350a5fac8",
   "metadata": {},
   "outputs": [],
   "source": [
    "plt.figure(figsize=[8,6])\n",
    "sns.barplot (x=\"City\",y=\"Revenue\",data =sales, color=\"b\" )\n",
    "plt.title(\"TOTAL REVENUE BY CITY\")\n",
    "plt. show\n"
   ]
  },
  {
   "cell_type": "code",
   "execution_count": null,
   "id": "b75d8b18-9c92-4097-8fd9-50ca7c198db0",
   "metadata": {},
   "outputs": [],
   "source": [
    "sales.groupby(['SalesRep'])['UnitsSold'].sum().reset_index()"
   ]
  },
  {
   "cell_type": "code",
   "execution_count": 10,
   "id": "b4ba547a-dd29-414b-9625-0f8e4f3bdfe6",
   "metadata": {},
   "outputs": [
    {
     "data": {
      "application/vnd.plotly.v1+json": {
       "config": {
        "linkText": "Export to plot.ly",
        "plotlyServerURL": "https://plot.ly",
        "showLink": true
       },
       "data": [
        {
         "labels": [
          "Chuka Obasi",
          "Mary Felix",
          "Abdul Salim",
          "Chuka Obasi",
          "Mary Felix",
          "Abdul Salim",
          "Mary Felix",
          "Abdul Salim",
          "Chuka Obasi",
          "Mary Felix",
          "Abdul Salim",
          "Abdul Salim",
          "Mary Felix",
          "Abdul Salim",
          "Mary Felix",
          "Abdul Salim",
          "Mary Felix",
          "Mary Felix",
          "Mary Felix",
          "Abdul Salim",
          "Abdul Salim",
          "Chuka Obasi",
          "Mary Felix",
          "Mary Felix",
          "Chuka Obasi",
          "Chuka Obasi",
          "Chuka Obasi",
          "Mary Felix",
          "Mary Felix",
          "Chuka Obasi",
          "Mary Felix",
          "Chuka Obasi",
          "Chuka Obasi",
          "Abdul Salim",
          "Mary Felix",
          "Abdul Salim",
          "Abdul Salim",
          "Mary Felix",
          "Mary Felix",
          "Abdul Salim",
          "Mary Felix",
          "Mary Felix",
          "Chuka Obasi",
          "Abdul Salim",
          "Mary Felix",
          "Chuka Obasi",
          "Abdul Salim",
          "Mary Felix",
          "Chuka Obasi",
          "Mary Felix",
          "Mary Felix",
          "Abdul Salim",
          "Mary Felix",
          "Chuka Obasi",
          "Mary Felix",
          "Chuka Obasi",
          "Abdul Salim",
          "Abdul Salim",
          "Abdul Salim",
          "Abdul Salim",
          "Abdul Salim",
          "Chuka Obasi",
          "Chuka Obasi",
          "Abdul Salim",
          "Mary Felix",
          "Mary Felix",
          "Chuka Obasi",
          "Mary Felix",
          "Abdul Salim",
          "Chuka Obasi",
          "Abdul Salim",
          "Chuka Obasi",
          "Chuka Obasi",
          "Chuka Obasi",
          "Abdul Salim",
          "Abdul Salim",
          "Abdul Salim",
          "Abdul Salim",
          "Abdul Salim",
          "Chuka Obasi",
          "Mary Felix",
          "Mary Felix",
          "Mary Felix",
          "Abdul Salim",
          "Mary Felix",
          "Mary Felix",
          "Abdul Salim",
          "Abdul Salim",
          "Mary Felix",
          "Mary Felix",
          "Chuka Obasi",
          "Abdul Salim",
          "Chuka Obasi",
          "Abdul Salim",
          "Abdul Salim",
          "Chuka Obasi",
          "Chuka Obasi",
          "Abdul Salim",
          "Abdul Salim",
          "Abdul Salim",
          "Abdul Salim",
          "Chuka Obasi",
          "Chuka Obasi",
          "Chuka Obasi",
          "Chuka Obasi",
          "Abdul Salim",
          "Mary Felix",
          "Mary Felix",
          "Chuka Obasi",
          "Mary Felix"
         ],
         "marker": {
          "colors": [
           "rgba(219, 64, 82, 1.0)",
           "rgba(0, 128, 0, 1.0)",
           "rgba(55, 128, 191, 1.0)",
           "rgba(55, 128, 191, 0.9781818181818183)",
           "rgba(219, 64, 82, 0.9781818181818183)",
           "rgba(0, 128, 0, 0.9781818181818183)",
           "rgba(0, 128, 0, 0.9563636363636363)",
           "rgba(55, 128, 191, 0.9563636363636363)",
           "rgba(219, 64, 82, 0.9563636363636363)",
           "rgba(219, 64, 82, 0.9345454545454546)",
           "rgba(0, 128, 0, 0.9345454545454546)",
           "rgba(55, 128, 191, 0.9345454545454546)",
           "rgba(55, 128, 191, 0.9127272727272726)",
           "rgba(219, 64, 82, 0.9127272727272726)",
           "rgba(0, 128, 0, 0.9127272727272726)",
           "rgba(0, 128, 0, 0.8909090909090909)",
           "rgba(55, 128, 191, 0.8909090909090909)",
           "rgba(219, 64, 82, 0.8909090909090909)",
           "rgba(219, 64, 82, 0.8690909090909091)",
           "rgba(0, 128, 0, 0.8690909090909091)",
           "rgba(55, 128, 191, 0.8690909090909091)",
           "rgba(55, 128, 191, 0.8472727272727272)",
           "rgba(219, 64, 82, 0.8472727272727272)",
           "rgba(0, 128, 0, 0.8472727272727272)",
           "rgba(0, 128, 0, 0.8254545454545454)",
           "rgba(55, 128, 191, 0.8254545454545454)",
           "rgba(219, 64, 82, 0.8254545454545454)",
           "rgba(219, 64, 82, 0.8036363636363637)",
           "rgba(0, 128, 0, 0.8036363636363637)",
           "rgba(55, 128, 191, 0.8036363636363637)",
           "rgba(55, 128, 191, 0.7818181818181817)",
           "rgba(219, 64, 82, 0.7818181818181817)",
           "rgba(0, 128, 0, 0.7818181818181817)",
           "rgba(0, 128, 0, 0.76)",
           "rgba(55, 128, 191, 0.76)",
           "rgba(219, 64, 82, 0.76)",
           "rgba(219, 64, 82, 0.738181818181818)",
           "rgba(0, 128, 0, 0.738181818181818)",
           "rgba(55, 128, 191, 0.738181818181818)",
           "rgba(55, 128, 191, 0.7163636363636363)",
           "rgba(219, 64, 82, 0.7163636363636363)",
           "rgba(0, 128, 0, 0.7163636363636363)",
           "rgba(0, 128, 0, 0.6945454545454546)",
           "rgba(55, 128, 191, 0.6945454545454546)",
           "rgba(219, 64, 82, 0.6945454545454546)",
           "rgba(219, 64, 82, 0.6727272727272726)",
           "rgba(0, 128, 0, 0.6727272727272726)",
           "rgba(55, 128, 191, 0.6727272727272726)",
           "rgba(55, 128, 191, 0.6509090909090909)",
           "rgba(219, 64, 82, 0.6509090909090909)",
           "rgba(0, 128, 0, 0.6509090909090909)",
           "rgba(0, 128, 0, 0.6290909090909089)",
           "rgba(55, 128, 191, 0.6290909090909089)",
           "rgba(219, 64, 82, 0.6290909090909089)",
           "rgba(219, 64, 82, 0.6072727272727272)",
           "rgba(0, 128, 0, 0.6072727272727272)",
           "rgba(55, 128, 191, 0.6072727272727272)",
           "rgba(55, 128, 191, 0.5854545454545454)",
           "rgba(219, 64, 82, 0.5854545454545454)",
           "rgba(0, 128, 0, 0.5854545454545454)",
           "rgba(0, 128, 0, 0.5636363636363635)",
           "rgba(55, 128, 191, 0.5636363636363635)",
           "rgba(219, 64, 82, 0.5636363636363635)",
           "rgba(219, 64, 82, 0.5418181818181818)",
           "rgba(0, 128, 0, 0.5418181818181818)",
           "rgba(55, 128, 191, 0.5418181818181818)",
           "rgba(55, 128, 191, 0.52)",
           "rgba(219, 64, 82, 0.52)",
           "rgba(0, 128, 0, 0.52)",
           "rgba(0, 128, 0, 0.4981818181818181)",
           "rgba(55, 128, 191, 0.4981818181818181)",
           "rgba(219, 64, 82, 0.4981818181818181)",
           "rgba(219, 64, 82, 0.4763636363636364)",
           "rgba(0, 128, 0, 0.4763636363636364)",
           "rgba(55, 128, 191, 0.4763636363636364)",
           "rgba(55, 128, 191, 0.4545454545454544)",
           "rgba(219, 64, 82, 0.4545454545454544)",
           "rgba(0, 128, 0, 0.4545454545454544)",
           "rgba(0, 128, 0, 0.4327272727272727)",
           "rgba(55, 128, 191, 0.4327272727272727)",
           "rgba(219, 64, 82, 0.4327272727272727)",
           "rgba(219, 64, 82, 0.41090909090909095)",
           "rgba(0, 128, 0, 0.41090909090909095)",
           "rgba(55, 128, 191, 0.41090909090909095)",
           "rgba(55, 128, 191, 0.389090909090909)",
           "rgba(219, 64, 82, 0.389090909090909)",
           "rgba(0, 128, 0, 0.389090909090909)",
           "rgba(0, 128, 0, 0.36727272727272725)",
           "rgba(55, 128, 191, 0.36727272727272725)",
           "rgba(219, 64, 82, 0.36727272727272725)",
           "rgba(219, 64, 82, 0.3454545454545455)",
           "rgba(0, 128, 0, 0.3454545454545455)",
           "rgba(55, 128, 191, 0.3454545454545455)",
           "rgba(55, 128, 191, 0.32363636363636356)",
           "rgba(219, 64, 82, 0.32363636363636356)",
           "rgba(0, 128, 0, 0.32363636363636356)",
           "rgba(0, 128, 0, 0.3018181818181818)",
           "rgba(55, 128, 191, 0.3018181818181818)",
           "rgba(219, 64, 82, 0.3018181818181818)",
           "rgba(219, 64, 82, 0.27999999999999986)",
           "rgba(0, 128, 0, 0.27999999999999986)",
           "rgba(55, 128, 191, 0.27999999999999986)",
           "rgba(55, 128, 191, 0.2581818181818181)",
           "rgba(219, 64, 82, 0.2581818181818181)",
           "rgba(0, 128, 0, 0.2581818181818181)",
           "rgba(0, 128, 0, 0.2363636363636364)",
           "rgba(55, 128, 191, 0.2363636363636364)",
           "rgba(219, 64, 82, 0.2363636363636364)",
           "rgba(219, 64, 82, 0.21454545454545443)",
           "rgba(0, 128, 0, 0.21454545454545443)"
          ]
         },
         "name": "",
         "type": "pie",
         "values": [
          2,
          1,
          4,
          1,
          2,
          5,
          1,
          3,
          6,
          2,
          3,
          3,
          2,
          2,
          1,
          5,
          3,
          4,
          2,
          1,
          2,
          2,
          2,
          4,
          3,
          2,
          2,
          4,
          3,
          2,
          4,
          2,
          3,
          4,
          2,
          1,
          6,
          5,
          5,
          3,
          4,
          2,
          5,
          5,
          2,
          6,
          6,
          4,
          2,
          4,
          5,
          3,
          1,
          6,
          3,
          2,
          2,
          2,
          5,
          3,
          4,
          5,
          6,
          4,
          1,
          2,
          2,
          2,
          2,
          6,
          4,
          5,
          4,
          4,
          4,
          1,
          4,
          5,
          1,
          5,
          3,
          6,
          5,
          1,
          5,
          5,
          1,
          2,
          4,
          3,
          6,
          6,
          1,
          3,
          6,
          2,
          2,
          4,
          6,
          3,
          3,
          4,
          5,
          2,
          3,
          2,
          2,
          1,
          2,
          2
         ]
        }
       ],
       "layout": {
        "autosize": true,
        "legend": {
         "bgcolor": "#F5F6F9",
         "font": {
          "color": "#4D5663"
         }
        },
        "paper_bgcolor": "#F5F6F9",
        "plot_bgcolor": "#F5F6F9",
        "title": {
         "font": {
          "color": "#4D5663"
         },
         "text": "PIE CHART FOR TOTAL UNITS SOLD BY SALES REP"
        }
       }
      },
      "image/png": "[encoded data removed]",
      "text/html": [
       "<div>                            <div id=\"450dd477-d5c7-4aee-a0be-61e56fe0bb89\" class=\"plotly-graph-div\" style=\"height:525px; width:100%;\"></div>            <script type=\"text/javascript\">                require([\"plotly\"], function(Plotly) {                    window.PLOTLYENV=window.PLOTLYENV || {};\n",
       "                    window.PLOTLYENV.BASE_URL='https://plot.ly';                                    if (document.getElementById(\"450dd477-d5c7-4aee-a0be-61e56fe0bb89\")) {                    Plotly.newPlot(                        \"450dd477-d5c7-4aee-a0be-61e56fe0bb89\",                        [{\"labels\":[\"Chuka Obasi\",\"Mary Felix\",\"Abdul Salim\",\"Chuka Obasi\",\"Mary Felix\",\"Abdul Salim\",\"Mary Felix\",\"Abdul Salim\",\"Chuka Obasi\",\"Mary Felix\",\"Abdul Salim\",\"Abdul Salim\",\"Mary Felix\",\"Abdul Salim\",\"Mary Felix\",\"Abdul Salim\",\"Mary Felix\",\"Mary Felix\",\"Mary Felix\",\"Abdul Salim\",\"Abdul Salim\",\"Chuka Obasi\",\"Mary Felix\",\"Mary Felix\",\"Chuka Obasi\",\"Chuka Obasi\",\"Chuka Obasi\",\"Mary Felix\",\"Mary Felix\",\"Chuka Obasi\",\"Mary Felix\",\"Chuka Obasi\",\"Chuka Obasi\",\"Abdul Salim\",\"Mary Felix\",\"Abdul Salim\",\"Abdul Salim\",\"Mary Felix\",\"Mary Felix\",\"Abdul Salim\",\"Mary Felix\",\"Mary Felix\",\"Chuka Obasi\",\"Abdul Salim\",\"Mary Felix\",\"Chuka Obasi\",\"Abdul Salim\",\"Mary Felix\",\"Chuka Obasi\",\"Mary Felix\",\"Mary Felix\",\"Abdul Salim\",\"Mary Felix\",\"Chuka Obasi\",\"Mary Felix\",\"Chuka Obasi\",\"Abdul Salim\",\"Abdul Salim\",\"Abdul Salim\",\"Abdul Salim\",\"Abdul Salim\",\"Chuka Obasi\",\"Chuka Obasi\",\"Abdul Salim\",\"Mary Felix\",\"Mary Felix\",\"Chuka Obasi\",\"Mary Felix\",\"Abdul Salim\",\"Chuka Obasi\",\"Abdul Salim\",\"Chuka Obasi\",\"Chuka Obasi\",\"Chuka Obasi\",\"Abdul Salim\",\"Abdul Salim\",\"Abdul Salim\",\"Abdul Salim\",\"Abdul Salim\",\"Chuka Obasi\",\"Mary Felix\",\"Mary Felix\",\"Mary Felix\",\"Abdul Salim\",\"Mary Felix\",\"Mary Felix\",\"Abdul Salim\",\"Abdul Salim\",\"Mary Felix\",\"Mary Felix\",\"Chuka Obasi\",\"Abdul Salim\",\"Chuka Obasi\",\"Abdul Salim\",\"Abdul Salim\",\"Chuka Obasi\",\"Chuka Obasi\",\"Abdul Salim\",\"Abdul Salim\",\"Abdul Salim\",\"Abdul Salim\",\"Chuka Obasi\",\"Chuka Obasi\",\"Chuka Obasi\",\"Chuka Obasi\",\"Abdul Salim\",\"Mary Felix\",\"Mary Felix\",\"Chuka Obasi\",\"Mary Felix\"],\"marker\":{\"colors\":[\"rgba(219, 64, 82, 1.0)\",\"rgba(0, 128, 0, 1.0)\",\"rgba(55, 128, 191, 1.0)\",\"rgba(55, 128, 191, 0.9781818181818183)\",\"rgba(219, 64, 82, 0.9781818181818183)\",\"rgba(0, 128, 0, 0.9781818181818183)\",\"rgba(0, 128, 0, 0.9563636363636363)\",\"rgba(55, 128, 191, 0.9563636363636363)\",\"rgba(219, 64, 82, 0.9563636363636363)\",\"rgba(219, 64, 82, 0.9345454545454546)\",\"rgba(0, 128, 0, 0.9345454545454546)\",\"rgba(55, 128, 191, 0.9345454545454546)\",\"rgba(55, 128, 191, 0.9127272727272726)\",\"rgba(219, 64, 82, 0.9127272727272726)\",\"rgba(0, 128, 0, 0.9127272727272726)\",\"rgba(0, 128, 0, 0.8909090909090909)\",\"rgba(55, 128, 191, 0.8909090909090909)\",\"rgba(219, 64, 82, 0.8909090909090909)\",\"rgba(219, 64, 82, 0.8690909090909091)\",\"rgba(0, 128, 0, 0.8690909090909091)\",\"rgba(55, 128, 191, 0.8690909090909091)\",\"rgba(55, 128, 191, 0.8472727272727272)\",\"rgba(219, 64, 82, 0.8472727272727272)\",\"rgba(0, 128, 0, 0.8472727272727272)\",\"rgba(0, 128, 0, 0.8254545454545454)\",\"rgba(55, 128, 191, 0.8254545454545454)\",\"rgba(219, 64, 82, 0.8254545454545454)\",\"rgba(219, 64, 82, 0.8036363636363637)\",\"rgba(0, 128, 0, 0.8036363636363637)\",\"rgba(55, 128, 191, 0.8036363636363637)\",\"rgba(55, 128, 191, 0.7818181818181817)\",\"rgba(219, 64, 82, 0.7818181818181817)\",\"rgba(0, 128, 0, 0.7818181818181817)\",\"rgba(0, 128, 0, 0.76)\",\"rgba(55, 128, 191, 0.76)\",\"rgba(219, 64, 82, 0.76)\",\"rgba(219, 64, 82, 0.738181818181818)\",\"rgba(0, 128, 0, 0.738181818181818)\",\"rgba(55, 128, 191, 0.738181818181818)\",\"rgba(55, 128, 191, 0.7163636363636363)\",\"rgba(219, 64, 82, 0.7163636363636363)\",\"rgba(0, 128, 0, 0.7163636363636363)\",\"rgba(0, 128, 0, 0.6945454545454546)\",\"rgba(55, 128, 191, 0.6945454545454546)\",\"rgba(219, 64, 82, 0.6945454545454546)\",\"rgba(219, 64, 82, 0.6727272727272726)\",\"rgba(0, 128, 0, 0.6727272727272726)\",\"rgba(55, 128, 191, 0.6727272727272726)\",\"rgba(55, 128, 191, 0.6509090909090909)\",\"rgba(219, 64, 82, 0.6509090909090909)\",\"rgba(0, 128, 0, 0.6509090909090909)\",\"rgba(0, 128, 0, 0.6290909090909089)\",\"rgba(55, 128, 191, 0.6290909090909089)\",\"rgba(219, 64, 82, 0.6290909090909089)\",\"rgba(219, 64, 82, 0.6072727272727272)\",\"rgba(0, 128, 0, 0.6072727272727272)\",\"rgba(55, 128, 191, 0.6072727272727272)\",\"rgba(55, 128, 191, 0.5854545454545454)\",\"rgba(219, 64, 82, 0.5854545454545454)\",\"rgba(0, 128, 0, 0.5854545454545454)\",\"rgba(0, 128, 0, 0.5636363636363635)\",\"rgba(55, 128, 191, 0.5636363636363635)\",\"rgba(219, 64, 82, 0.5636363636363635)\",\"rgba(219, 64, 82, 0.5418181818181818)\",\"rgba(0, 128, 0, 0.5418181818181818)\",\"rgba(55, 128, 191, 0.5418181818181818)\",\"rgba(55, 128, 191, 0.52)\",\"rgba(219, 64, 82, 0.52)\",\"rgba(0, 128, 0, 0.52)\",\"rgba(0, 128, 0, 0.4981818181818181)\",\"rgba(55, 128, 191, 0.4981818181818181)\",\"rgba(219, 64, 82, 0.4981818181818181)\",\"rgba(219, 64, 82, 0.4763636363636364)\",\"rgba(0, 128, 0, 0.4763636363636364)\",\"rgba(55, 128, 191, 0.4763636363636364)\",\"rgba(55, 128, 191, 0.4545454545454544)\",\"rgba(219, 64, 82, 0.4545454545454544)\",\"rgba(0, 128, 0, 0.4545454545454544)\",\"rgba(0, 128, 0, 0.4327272727272727)\",\"rgba(55, 128, 191, 0.4327272727272727)\",\"rgba(219, 64, 82, 0.4327272727272727)\",\"rgba(219, 64, 82, 0.41090909090909095)\",\"rgba(0, 128, 0, 0.41090909090909095)\",\"rgba(55, 128, 191, 0.41090909090909095)\",\"rgba(55, 128, 191, 0.389090909090909)\",\"rgba(219, 64, 82, 0.389090909090909)\",\"rgba(0, 128, 0, 0.389090909090909)\",\"rgba(0, 128, 0, 0.36727272727272725)\",\"rgba(55, 128, 191, 0.36727272727272725)\",\"rgba(219, 64, 82, 0.36727272727272725)\",\"rgba(219, 64, 82, 0.3454545454545455)\",\"rgba(0, 128, 0, 0.3454545454545455)\",\"rgba(55, 128, 191, 0.3454545454545455)\",\"rgba(55, 128, 191, 0.32363636363636356)\",\"rgba(219, 64, 82, 0.32363636363636356)\",\"rgba(0, 128, 0, 0.32363636363636356)\",\"rgba(0, 128, 0, 0.3018181818181818)\",\"rgba(55, 128, 191, 0.3018181818181818)\",\"rgba(219, 64, 82, 0.3018181818181818)\",\"rgba(219, 64, 82, 0.27999999999999986)\",\"rgba(0, 128, 0, 0.27999999999999986)\",\"rgba(55, 128, 191, 0.27999999999999986)\",\"rgba(55, 128, 191, 0.2581818181818181)\",\"rgba(219, 64, 82, 0.2581818181818181)\",\"rgba(0, 128, 0, 0.2581818181818181)\",\"rgba(0, 128, 0, 0.2363636363636364)\",\"rgba(55, 128, 191, 0.2363636363636364)\",\"rgba(219, 64, 82, 0.2363636363636364)\",\"rgba(219, 64, 82, 0.21454545454545443)\",\"rgba(0, 128, 0, 0.21454545454545443)\"]},\"name\":\"\",\"values\":[2,1,4,1,2,5,1,3,6,2,3,3,2,2,1,5,3,4,2,1,2,2,2,4,3,2,2,4,3,2,4,2,3,4,2,1,6,5,5,3,4,2,5,5,2,6,6,4,2,4,5,3,1,6,3,2,2,2,5,3,4,5,6,4,1,2,2,2,2,6,4,5,4,4,4,1,4,5,1,5,3,6,5,1,5,5,1,2,4,3,6,6,1,3,6,2,2,4,6,3,3,4,5,2,3,2,2,1,2,2],\"type\":\"pie\"}],                        {\"legend\":{\"bgcolor\":\"#F5F6F9\",\"font\":{\"color\":\"#4D5663\"}},\"paper_bgcolor\":\"#F5F6F9\",\"plot_bgcolor\":\"#F5F6F9\",\"titlefont\":{\"color\":\"#4D5663\"},\"title\":\"PIE CHART FOR TOTAL UNITS SOLD\\u00a0BY\\u00a0SALES\\u00a0REP\"},                        {\"showLink\": true, \"linkText\": \"Export to plot.ly\", \"plotlyServerURL\": \"https://plot.ly\", \"responsive\": true}                    ).then(function(){\n",
       "                            \n",
       "var gd = document.getElementById('450dd477-d5c7-4aee-a0be-61e56fe0bb89');\n",
       "var x = new MutationObserver(function (mutations, observer) {{\n",
       "        var display = window.getComputedStyle(gd).display;\n",
       "        if (!display || display === 'none') {{\n",
       "            console.log([gd, 'removed!']);\n",
       "            Plotly.purge(gd);\n",
       "            observer.disconnect();\n",
       "        }}\n",
       "}});\n",
       "\n",
       "// Listen for the removal of the full notebook cells\n",
       "var notebookContainer = gd.closest('#notebook-container');\n",
       "if (notebookContainer) {{\n",
       "    x.observe(notebookContainer, {childList: true});\n",
       "}}\n",
       "\n",
       "// Listen for the clearing of the current output cell\n",
       "var outputEl = gd.closest('.output');\n",
       "if (outputEl) {{\n",
       "    x.observe(outputEl, {childList: true});\n",
       "}}\n",
       "\n",
       "                        })                };                });            </script>        </div>"
      ]
     },
     "metadata": {},
     "output_type": "display_data"
    }
   ],
   "source": [
    "sales.iplot(kind=\"pie\", labels=\"SalesRep\", values= \"UnitsSold\", colors = [\"red\", \"green\", \"blue\"],\n",
    "title=\"PIE CHART FOR TOTAL UNITS SOLD BY SALES REP\")"
   ]
  },
  {
   "cell_type": "code",
   "execution_count": null,
   "id": "707b486b-978c-4958-b36f-6e531a525561",
   "metadata": {},
   "outputs": [],
   "source": [
    "plt.figure(figsize=[30,15])\n",
    "plt.subplot (2,2,1)\n",
    "sns.barplot (x=\"Category\",y=\"Revenue\", data =sales, color=\"b\")\n",
    "plt.title(\"TOTAL REVENUE BY CATEGORY\")\n",
    "\n",
    "plt.subplot(2,2,2)\n",
    "sns.lineplot (x=\"Month\" , y=\"Revenue\",data =sales)\n",
    "plt. title(\"MONTHLY TREND\")\n",
    "\n",
    "plt. subplot (2,2,3)\n",
    "sns.barplot(x=\"City\" ,y=\"Revenue\", data =sales, color=\"b\")\n",
    "plt.title(\"TOTAL REVENUE BY CITY\")\n"
   ]
  }
 ],
 "metadata": {
  "kernelspec": {
   "display_name": "Python 3 (ipykernel)",
   "language": "python",
   "name": "python3"
  },
  "language_info": {
   "codemirror_mode": {
    "name": "ipython",
    "version": 3
   },
   "file_extension": ".py",
   "mimetype": "text/x-python",
   "name": "python",
   "nbconvert_exporter": "python",
   "pygments_lexer": "ipython3",
   "version": "3.12.7"
  }
 },
 "nbformat": 4,
 "nbformat_minor": 5
}
